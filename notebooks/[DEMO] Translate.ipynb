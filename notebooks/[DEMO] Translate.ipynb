{
 "cells": [
  {
   "cell_type": "code",
   "execution_count": 14,
   "metadata": {
    "colab": {
     "base_uri": "https://localhost:8080/"
    },
    "executionInfo": {
     "elapsed": 21815,
     "status": "ok",
     "timestamp": 1667234557531,
     "user": {
      "displayName": "Kapchenko Nikita",
      "userId": "13103833174454489193"
     },
     "user_tz": -60
    },
    "id": "SaOlNWG3sIxo",
    "outputId": "bbc85c13-4edc-4950-8b40-97b0ac0a49c8"
   },
   "outputs": [],
   "source": [
    "# Use below line for demo in external colabs\n",
    "!pip install -q torchdata==0.3.0 torchtext==0.12 spacy==3.2 GPUtil\n",
    "!python -m spacy download de_core_news_sm\n",
    "!python -m spacy download en_core_web_sm\n",
    "!pip install -q git+https://github.com/nikitakapitan/transformers.git"
   ]
  },
  {
   "cell_type": "code",
   "execution_count": 1,
   "metadata": {
    "executionInfo": {
     "elapsed": 381,
     "status": "ok",
     "timestamp": 1667235645442,
     "user": {
      "displayName": "Kapchenko Nikita",
      "userId": "13103833174454489193"
     },
     "user_tz": -60
    },
    "id": "WN8Jccx1sYXG"
   },
   "outputs": [],
   "source": [
    "import warnings\n",
    "warnings.filterwarnings('ignore')\n",
    "\n",
    "import torch\n",
    "\n",
    "from transformers.data.token import load_tokenizers\n",
    "from transformers.data.vocab import load_vocab\n",
    "\n",
    "from transformers.main import make_model\n",
    "from transformers.output import check_outputs\n",
    "\n",
    "from torch.utils.data import DataLoader\n",
    "from transformers.data.token import tokenize\n",
    "from transformers.data.Batch import collate_batch\n",
    "\n",
    "from google.colab import drive\n",
    "drive.mount('/content/drive')\n",
    "\n",
    "%load_ext autoreload\n",
    "%autoreload 2"
   ]
  },
  {
   "cell_type": "code",
   "execution_count": null,
   "metadata": {},
   "outputs": [],
   "source": [
    "!cp -r drive/MyDrive/multi30k_model_final.pt multi30k_model_final.pt"
   ]
  },
  {
   "cell_type": "code",
   "execution_count": 2,
   "metadata": {},
   "outputs": [
    {
     "name": "stdout",
     "output_type": "stream",
     "text": [
      "Finished.\n",
      "Vocabulary sizes:\n",
      "len: SRC=8315 TGT=6384\n"
     ]
    }
   ],
   "source": [
    "spacy_de, spacy_en = load_tokenizers()\n",
    "vocab_src, vocab_tgt = load_vocab(spacy_de=spacy_de, spacy_en=spacy_en)"
   ]
  },
  {
   "cell_type": "code",
   "execution_count": 3,
   "metadata": {
    "executionInfo": {
     "elapsed": 1041,
     "status": "ok",
     "timestamp": 1667234558567,
     "user": {
      "displayName": "Kapchenko Nikita",
      "userId": "13103833174454489193"
     },
     "user_tz": -60
    },
    "id": "_hV9cbyH_59h"
   },
   "outputs": [],
   "source": [
    "YOUR_GERMAN_SENTENCE = \"Drei Hunde in schwarzen Jacken kaufen Milch in der Innenstadt\"\n",
    "\n",
    "data_setup = {\n",
    "    'max_padding' : 128,\n",
    "}\n",
    "\n",
    "architecture = {\n",
    "        'src_vocab_len' : len(vocab_src),\n",
    "        'tgt_vocab_len' : len(vocab_tgt),\n",
    "        'N' : 6, # loop\n",
    "        'd_model' : 512, # emb\n",
    "        'd_ff' : 2048,\n",
    "        'h' : 8,\n",
    "        'p_dropout' : 0.1\n",
    "    }\n",
    "\n",
    "def collate_fn(batch):\n",
    "        return collate_batch(\n",
    "            batch=batch,\n",
    "            src_pipeline=lambda x : tokenize(x, spacy_de),\n",
    "            tgt_pipeline=lambda x : tokenize(x, spacy_en),\n",
    "            src_vocab=vocab_src,\n",
    "            tgt_vocab=vocab_tgt,\n",
    "            device=None,\n",
    "            max_padding=data_setup['max_padding'],\n",
    "            pad_id=vocab_src.get_stoi()[\"<blank>\"],\n",
    "        )\n",
    "\n",
    "phrase = DataLoader([(YOUR_GERMAN_SENTENCE, 'None')], collate_fn=collate_fn)\n",
    "\n",
    "model = make_model(\n",
    "    src_vocab_len=architecture['src_vocab_len'],\n",
    "    tgt_vocab_len=architecture['tgt_vocab_len'],\n",
    "    N=architecture['N'],\n",
    "    d_model=architecture['d_model'],\n",
    "    d_ff=architecture['d_ff'],\n",
    "    h=architecture['h'],\n",
    "    dropout=architecture['p_dropout'],\n",
    "    )\n",
    "\n",
    "model.load_state_dict(\n",
    "    torch.load(\"multi30k_model_final.pt\", map_location=torch.device(\"cpu\"))\n",
    ")\n",
    "\n",
    "example_data = check_outputs(\n",
    "        phrase, model, vocab_src, vocab_tgt, n_examples=2\n",
    "    )"
   ]
  }
 ],
 "metadata": {
  "colab": {
   "authorship_tag": "ABX9TyMBa/2JyW7GewSx6ZS912U7",
   "collapsed_sections": [],
   "provenance": []
  },
  "kernelspec": {
   "display_name": "Python 3.10.6 ('venvai')",
   "language": "python",
   "name": "python3"
  },
  "language_info": {
   "codemirror_mode": {
    "name": "ipython",
    "version": 3
   },
   "file_extension": ".py",
   "mimetype": "text/x-python",
   "name": "python",
   "nbconvert_exporter": "python",
   "pygments_lexer": "ipython3",
   "version": "3.10.6 (main, Nov 14 2022, 16:10:14) [GCC 11.3.0]"
  },
  "vscode": {
   "interpreter": {
    "hash": "0159b81555e194df7357f3ec66ac7a725116f7bdd06d05856166e90d27da3b92"
   }
  }
 },
 "nbformat": 4,
 "nbformat_minor": 1
}

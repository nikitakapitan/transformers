{
 "cells": [
  {
   "cell_type": "code",
   "execution_count": null,
   "metadata": {},
   "outputs": [],
   "source": [
    "import torch\n",
    "if not torch.cuda.is_available():\n",
    "  raise ValueError('change runtime to GPU')"
   ]
  },
  {
   "cell_type": "code",
   "execution_count": null,
   "metadata": {
    "colab": {
     "base_uri": "https://localhost:8080/"
    },
    "executionInfo": {
     "elapsed": 21815,
     "status": "ok",
     "timestamp": 1667234557531,
     "user": {
      "displayName": "Kapchenko Nikita",
      "userId": "13103833174454489193"
     },
     "user_tz": -60
    },
    "id": "SaOlNWG3sIxo",
    "outputId": "bbc85c13-4edc-4950-8b40-97b0ac0a49c8"
   },
   "outputs": [],
   "source": [
    "# Use below line for demo in external colabs\n",
    "# !pip install -q torchdata==0.3.0 torchtext==0.12 spacy==3.2 altair GPUtil\n",
    "# !python -m spacy download de_core_news_sm\n",
    "# !python -m spacy download en_core_web_sm\n",
    "# !pip install -q git+https://github.com/nikitakapitan/transformers.git"
   ]
  },
  {
   "cell_type": "code",
   "execution_count": 1,
   "metadata": {
    "executionInfo": {
     "elapsed": 381,
     "status": "ok",
     "timestamp": 1667235645442,
     "user": {
      "displayName": "Kapchenko Nikita",
      "userId": "13103833174454489193"
     },
     "user_tz": -60
    },
    "id": "WN8Jccx1sYXG"
   },
   "outputs": [],
   "source": [
    "from os.path import exists\n",
    "import warnings\n",
    "warnings.filterwarnings('ignore')\n",
    "\n",
    "import torch\n",
    "from transformers.data.token import load_tokenizers\n",
    "from transformers.data.vocab import load_vocab\n",
    "\n",
    "from transformers.training.train import train_model\n",
    "from transformers.output import run_model_example\n",
    "\n",
    "from google.colab import drive\n",
    "drive.mount('/content/drive')\n",
    "\n",
    "%load_ext autoreload\n",
    "%autoreload 2"
   ]
  },
  {
   "cell_type": "code",
   "execution_count": 2,
   "metadata": {
    "executionInfo": {
     "elapsed": 1041,
     "status": "ok",
     "timestamp": 1667234558567,
     "user": {
      "displayName": "Kapchenko Nikita",
      "userId": "13103833174454489193"
     },
     "user_tz": -60
    },
    "id": "_hV9cbyH_59h"
   },
   "outputs": [
    {
     "name": "stdout",
     "output_type": "stream",
     "text": [
      "Finished.\n",
      "Vocabulary sizes:\n",
      "len: SRC=8315 TGT=6384\n"
     ]
    }
   ],
   "source": [
    "spacy_de, spacy_en = load_tokenizers()\n",
    "vocab_src, vocab_tgt = load_vocab(spacy_de=spacy_de, spacy_en=spacy_en)"
   ]
  },
  {
   "cell_type": "code",
   "execution_count": 4,
   "metadata": {},
   "outputs": [],
   "source": [
    "train_config = {\n",
    "        'batch_size' : 32,\n",
    "        'distributed' : False,\n",
    "        'num_epochs' : 8,\n",
    "        'accum_iter' : 10, # nb of gradient accumulation steps\n",
    "        'base_lr' : 1.0,\n",
    "        'max_padding' : 72, # add blanks to have total 72 tokens.\n",
    "        'warmup' : 3000,\n",
    "        'file_prefix' : 'multi30k_model_',\n",
    "    }\n",
    "architecture = {\n",
    "        'src_vocab_len' : len(vocab_src),\n",
    "        'tgt_vocab_len' : len(vocab_tgt),\n",
    "        'N' : 6, # loop\n",
    "        'd_model' : 512, # emb\n",
    "        'd_ff' : 2048,\n",
    "        'h' : 8,\n",
    "        'p_dropout' : 0.1\n",
    "    }\n",
    "\n",
    "model_path = 'multi30k_model_final.pt'\n",
    "\n",
    "if not exists(model_path):\n",
    "    train_model(\n",
    "        vocab_src=vocab_src,\n",
    "        vocab_tgt=vocab_tgt,\n",
    "        spacy_de=spacy_de,\n",
    "        spacy_en=spacy_en,\n",
    "        config=train_config,\n",
    "        architecture=architecture,\n",
    "        )"
   ]
  },
  {
   "cell_type": "code",
   "execution_count": null,
   "metadata": {},
   "outputs": [],
   "source": [
    "!cp multi30k_model_final.pt /content/drive/MyDrive\n",
    "!cp vocab.pt /content/drive/MyDrive"
   ]
  }
 ],
 "metadata": {
  "colab": {
   "authorship_tag": "ABX9TyMBa/2JyW7GewSx6ZS912U7",
   "collapsed_sections": [],
   "provenance": []
  },
  "kernelspec": {
   "display_name": "Python 3.10.6 ('venvai')",
   "language": "python",
   "name": "python3"
  },
  "language_info": {
   "codemirror_mode": {
    "name": "ipython",
    "version": 3
   },
   "file_extension": ".py",
   "mimetype": "text/x-python",
   "name": "python",
   "nbconvert_exporter": "python",
   "pygments_lexer": "ipython3",
   "version": "3.10.6"
  },
  "vscode": {
   "interpreter": {
    "hash": "0159b81555e194df7357f3ec66ac7a725116f7bdd06d05856166e90d27da3b92"
   }
  }
 },
 "nbformat": 4,
 "nbformat_minor": 1
}
